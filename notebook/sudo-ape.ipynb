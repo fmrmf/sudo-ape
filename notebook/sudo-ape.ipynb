{
 "cells": [
  {
   "cell_type": "code",
   "execution_count": 1,
   "id": "28d6c942",
   "metadata": {},
   "outputs": [],
   "source": [
    "\"\"\"\n",
    "SEE: https://github.com/sudoswap/lssvm/blob/main/src/LSSVMPair.sol\n",
    "Events to query for are:\n",
    "  1. SwapNFTInPair()\n",
    "    - emitted by LSSVMPair.swapNFTsForToken()  (sell order)\n",
    "    - has no data so need to look at Transfer event for volume\n",
    "  2. SwapNFTOutPair()\n",
    "    - emitted by LSSVMPair.swapTokenForAnyNFTs() (buy order)\n",
    "    - has no data so need to look at Transfer event for volume\n",
    "  3. SpotPriceUpdate(uint128 newSpotPrice)\n",
    "    - emitted by LSSVMPair on spot price changes: use to track price changes\n",
    "\"\"\"\n",
    "# switch to sudo-ape wd first for ape project to work properly\n",
    "import os\n",
    "from pathlib import Path\n",
    "\n",
    "if Path(*Path(os.getcwd()).parts[-2:]) == Path('sudo-ape/notebook'):\n",
    "    os.chdir('..')"
   ]
  },
  {
   "cell_type": "code",
   "execution_count": 3,
   "id": "d270c561",
   "metadata": {},
   "outputs": [],
   "source": [
    "import pandas as pd\n",
    "import typing as tp\n",
    "\n",
    "from ape import accounts, chain, Contract, networks, project"
   ]
  },
  {
   "cell_type": "code",
   "execution_count": 4,
   "id": "5ee2b959",
   "metadata": {},
   "outputs": [
    {
     "data": {
      "text/plain": [
       "<alchemy chain_id=1>"
      ]
     },
     "execution_count": 4,
     "metadata": {},
     "output_type": "execute_result"
    }
   ],
   "source": [
    "networks.parse_network_choice('ethereum:mainnet:alchemy').__enter__()"
   ]
  },
  {
   "cell_type": "code",
   "execution_count": 5,
   "id": "c7f4c729",
   "metadata": {},
   "outputs": [
    {
     "data": {
      "text/plain": [
       "<LSSVMPair>"
      ]
     },
     "execution_count": 5,
     "metadata": {},
     "output_type": "execute_result"
    }
   ],
   "source": [
    "project.LSSVMPair"
   ]
  },
  {
   "cell_type": "code",
   "execution_count": 6,
   "id": "7c974e5f",
   "metadata": {},
   "outputs": [
    {
     "data": {
      "text/plain": [
       "15562955"
      ]
     },
     "execution_count": 6,
     "metadata": {},
     "output_type": "execute_result"
    }
   ],
   "source": [
    "current_block = chain.blocks[-1].number\n",
    "current_block"
   ]
  },
  {
   "cell_type": "code",
   "execution_count": 7,
   "id": "3043f2bd",
   "metadata": {},
   "outputs": [
    {
     "data": {
      "text/plain": [
       "14645816"
      ]
     },
     "execution_count": 7,
     "metadata": {},
     "output_type": "execute_result"
    }
   ],
   "source": [
    "start_block = 14645816  # pair factory deployment\n",
    "start_block"
   ]
  },
  {
   "cell_type": "code",
   "execution_count": 8,
   "id": "a4a8516f",
   "metadata": {},
   "outputs": [
    {
     "data": {
      "text/plain": [
       "<LSSVMRouter 0x2B2e8cDA09bBA9660dCA5cB6233787738Ad68329>"
      ]
     },
     "execution_count": 8,
     "metadata": {},
     "output_type": "execute_result"
    }
   ],
   "source": [
    "sudo_router = Contract(\"0x2B2e8cDA09bBA9660dCA5cB6233787738Ad68329\")\n",
    "sudo_router"
   ]
  },
  {
   "cell_type": "code",
   "execution_count": 9,
   "id": "08870007",
   "metadata": {},
   "outputs": [
    {
     "data": {
      "text/plain": [
       "<LSSVMPairFactory 0xb16c1342E617A5B6E4b631EB114483FDB289c0A4>"
      ]
     },
     "execution_count": 9,
     "metadata": {},
     "output_type": "execute_result"
    }
   ],
   "source": [
    "sudo_factory = Contract(\"0xb16c1342E617A5B6E4b631EB114483FDB289c0A4\")\n",
    "sudo_factory"
   ]
  },
  {
   "cell_type": "code",
   "execution_count": 10,
   "id": "f3e3cfdc",
   "metadata": {},
   "outputs": [
    {
     "data": {
      "text/plain": [
       "NewPair(address poolAddress)"
      ]
     },
     "execution_count": 10,
     "metadata": {},
     "output_type": "execute_result"
    }
   ],
   "source": [
    "sudo_factory.NewPair"
   ]
  },
  {
   "cell_type": "code",
   "execution_count": 11,
   "id": "ff547fad",
   "metadata": {},
   "outputs": [
    {
     "data": {
      "text/plain": [
       "True"
      ]
     },
     "execution_count": 11,
     "metadata": {},
     "output_type": "execute_result"
    }
   ],
   "source": [
    "# use address of top xmons pool to check is pool thru factory\n",
    "sudo_factory.isPair(\"0x5caf332dca4e6c9e69d52f320c21e74845353db0\", 0)"
   ]
  },
  {
   "cell_type": "code",
   "execution_count": 12,
   "id": "677f01aa",
   "metadata": {},
   "outputs": [
    {
     "data": {
      "text/plain": [
       "<LSSVMPair 0x5caF332DcA4e6C9E69d52F320c21e74845353db0>"
      ]
     },
     "execution_count": 12,
     "metadata": {},
     "output_type": "execute_result"
    }
   ],
   "source": [
    "sudo_pair_xmons = Contract(\"0x5caf332dca4e6c9e69d52f320c21e74845353db0\")\n",
    "sudo_pair_xmons"
   ]
  },
  {
   "cell_type": "code",
   "execution_count": 13,
   "id": "a08d93ee",
   "metadata": {},
   "outputs": [
    {
     "data": {
      "text/plain": [
       "2"
      ]
     },
     "execution_count": 13,
     "metadata": {},
     "output_type": "execute_result"
    }
   ],
   "source": [
    "# TRADE pool type\n",
    "sudo_pair_xmons.poolType()"
   ]
  },
  {
   "cell_type": "code",
   "execution_count": 14,
   "id": "53363718",
   "metadata": {},
   "outputs": [
    {
     "data": {
      "text/plain": [
       "SpotPriceUpdate(uint128 newSpotPrice)"
      ]
     },
     "execution_count": 14,
     "metadata": {},
     "output_type": "execute_result"
    }
   ],
   "source": [
    "sudo_pair_xmons.SpotPriceUpdate"
   ]
  },
  {
   "cell_type": "code",
   "execution_count": 15,
   "id": "bc299ab2",
   "metadata": {},
   "outputs": [
    {
     "name": "stdout",
     "output_type": "stream",
     "text": [
      "INFO: Cache database has not been initialized\n",
      "CPU times: user 29.5 s, sys: 3.99 s, total: 33.5 s\n",
      "Wall time: 5min 27s\n"
     ]
    },
    {
     "data": {
      "text/html": [
       "<div>\n",
       "<style scoped>\n",
       "    .dataframe tbody tr th:only-of-type {\n",
       "        vertical-align: middle;\n",
       "    }\n",
       "\n",
       "    .dataframe tbody tr th {\n",
       "        vertical-align: top;\n",
       "    }\n",
       "\n",
       "    .dataframe thead th {\n",
       "        text-align: right;\n",
       "    }\n",
       "</style>\n",
       "<table border=\"1\" class=\"dataframe\">\n",
       "  <thead>\n",
       "    <tr style=\"text-align: right;\">\n",
       "      <th></th>\n",
       "      <th>event_name</th>\n",
       "      <th>contract_address</th>\n",
       "      <th>event_arguments</th>\n",
       "      <th>transaction_hash</th>\n",
       "      <th>block_number</th>\n",
       "      <th>block_hash</th>\n",
       "      <th>log_index</th>\n",
       "      <th>transaction_index</th>\n",
       "    </tr>\n",
       "  </thead>\n",
       "  <tbody>\n",
       "    <tr>\n",
       "      <th>0</th>\n",
       "      <td>SpotPriceUpdate</td>\n",
       "      <td>0x5caF332DcA4e6C9E69d52F320c21e74845353db0</td>\n",
       "      <td>{'newSpotPrice': 9077669902912621000}</td>\n",
       "      <td>0x195069bfc2a5e1ee78ee3cd8114fdfce8c0d482036d3...</td>\n",
       "      <td>15198846</td>\n",
       "      <td>0xd3b29ce639c43280c2a194b638e07a5e1541824210aa...</td>\n",
       "      <td>54</td>\n",
       "      <td>37</td>\n",
       "    </tr>\n",
       "    <tr>\n",
       "      <th>1</th>\n",
       "      <td>SpotPriceUpdate</td>\n",
       "      <td>0x5caF332DcA4e6C9E69d52F320c21e74845353db0</td>\n",
       "      <td>{'newSpotPrice': 11577669902912621000}</td>\n",
       "      <td>0xe6d9db380c0b7b3d9923ac18e1a920c64a60ef0e2f2e...</td>\n",
       "      <td>15199800</td>\n",
       "      <td>0x420f1997f04b486a8ed114b32337abb0f8722e82ef1f...</td>\n",
       "      <td>79</td>\n",
       "      <td>82</td>\n",
       "    </tr>\n",
       "    <tr>\n",
       "      <th>2</th>\n",
       "      <td>SpotPriceUpdate</td>\n",
       "      <td>0x5caF332DcA4e6C9E69d52F320c21e74845353db0</td>\n",
       "      <td>{'newSpotPrice': 14077669902912621000}</td>\n",
       "      <td>0x85212d1b00c2c505bda6b7a56d2b1f2a893646a0d55b...</td>\n",
       "      <td>15203036</td>\n",
       "      <td>0x0e89e72ff162aa1b1ec18cdad70825885d7c0884f425...</td>\n",
       "      <td>233</td>\n",
       "      <td>138</td>\n",
       "    </tr>\n",
       "    <tr>\n",
       "      <th>3</th>\n",
       "      <td>SpotPriceUpdate</td>\n",
       "      <td>0x5caF332DcA4e6C9E69d52F320c21e74845353db0</td>\n",
       "      <td>{'newSpotPrice': 11577669902912621000}</td>\n",
       "      <td>0x414ea41198833a399a68c9b66456047bc6dd349330d7...</td>\n",
       "      <td>15208415</td>\n",
       "      <td>0x36dce9b484abf8db83699dabf5d63cbca4b9f68cc7e2...</td>\n",
       "      <td>120</td>\n",
       "      <td>56</td>\n",
       "    </tr>\n",
       "    <tr>\n",
       "      <th>4</th>\n",
       "      <td>SpotPriceUpdate</td>\n",
       "      <td>0x5caF332DcA4e6C9E69d52F320c21e74845353db0</td>\n",
       "      <td>{'newSpotPrice': 9077669902912621000}</td>\n",
       "      <td>0x28758b8d0ad21047a93b75089e210e0ca85f652842ef...</td>\n",
       "      <td>15218330</td>\n",
       "      <td>0x10112e7b56853191c7e46d36f0cca7431be567982f5c...</td>\n",
       "      <td>73</td>\n",
       "      <td>59</td>\n",
       "    </tr>\n",
       "    <tr>\n",
       "      <th>...</th>\n",
       "      <td>...</td>\n",
       "      <td>...</td>\n",
       "      <td>...</td>\n",
       "      <td>...</td>\n",
       "      <td>...</td>\n",
       "      <td>...</td>\n",
       "      <td>...</td>\n",
       "      <td>...</td>\n",
       "    </tr>\n",
       "    <tr>\n",
       "      <th>61</th>\n",
       "      <td>SpotPriceUpdate</td>\n",
       "      <td>0x5caF332DcA4e6C9E69d52F320c21e74845353db0</td>\n",
       "      <td>{'newSpotPrice': 17330097087378640000}</td>\n",
       "      <td>0x2946f9b515e1b1144a2a2a7de75e111bdc1700485e16...</td>\n",
       "      <td>15460128</td>\n",
       "      <td>0xbe6bdd7ff1c6ead20430c3ca591031e3cab7165b492d...</td>\n",
       "      <td>79</td>\n",
       "      <td>52</td>\n",
       "    </tr>\n",
       "    <tr>\n",
       "      <th>62</th>\n",
       "      <td>SpotPriceUpdate</td>\n",
       "      <td>0x5caF332DcA4e6C9E69d52F320c21e74845353db0</td>\n",
       "      <td>{'newSpotPrice': 14830097087378640000}</td>\n",
       "      <td>0xc5dd46e77a6a15f76f76b34bebc89c57a0a7436febb7...</td>\n",
       "      <td>15460372</td>\n",
       "      <td>0x46a34b7810110fe9171b49155170a0a8af02658675e5...</td>\n",
       "      <td>190</td>\n",
       "      <td>127</td>\n",
       "    </tr>\n",
       "    <tr>\n",
       "      <th>63</th>\n",
       "      <td>SpotPriceUpdate</td>\n",
       "      <td>0x5caF332DcA4e6C9E69d52F320c21e74845353db0</td>\n",
       "      <td>{'newSpotPrice': 17330097087378640000}</td>\n",
       "      <td>0x15592fc9f37ff3366ca8cec45612d9b4dc6eec6b76ac...</td>\n",
       "      <td>15462678</td>\n",
       "      <td>0xa641413250e702a7032da1803bd91a6a9095ab11e9ec...</td>\n",
       "      <td>58</td>\n",
       "      <td>37</td>\n",
       "    </tr>\n",
       "    <tr>\n",
       "      <th>64</th>\n",
       "      <td>SpotPriceUpdate</td>\n",
       "      <td>0x5caF332DcA4e6C9E69d52F320c21e74845353db0</td>\n",
       "      <td>{'newSpotPrice': 14830097087378640000}</td>\n",
       "      <td>0xe920b32111dc1c0691333c4880b495a944560a181646...</td>\n",
       "      <td>15487756</td>\n",
       "      <td>0xc545a2b6d360c6653972c1b1a52b1d90d7f59bcb9246...</td>\n",
       "      <td>52</td>\n",
       "      <td>81</td>\n",
       "    </tr>\n",
       "    <tr>\n",
       "      <th>65</th>\n",
       "      <td>SpotPriceUpdate</td>\n",
       "      <td>0x5caF332DcA4e6C9E69d52F320c21e74845353db0</td>\n",
       "      <td>{'newSpotPrice': 12330097087378640000}</td>\n",
       "      <td>0xeec0e2fab623449d8cfe05883a3fce73774c490a69b7...</td>\n",
       "      <td>15505080</td>\n",
       "      <td>0x188da61234954d9150e4ee3e72f84b3fc663bae565c1...</td>\n",
       "      <td>165</td>\n",
       "      <td>59</td>\n",
       "    </tr>\n",
       "  </tbody>\n",
       "</table>\n",
       "<p>66 rows × 8 columns</p>\n",
       "</div>"
      ],
      "text/plain": [
       "         event_name                            contract_address  \\\n",
       "0   SpotPriceUpdate  0x5caF332DcA4e6C9E69d52F320c21e74845353db0   \n",
       "1   SpotPriceUpdate  0x5caF332DcA4e6C9E69d52F320c21e74845353db0   \n",
       "2   SpotPriceUpdate  0x5caF332DcA4e6C9E69d52F320c21e74845353db0   \n",
       "3   SpotPriceUpdate  0x5caF332DcA4e6C9E69d52F320c21e74845353db0   \n",
       "4   SpotPriceUpdate  0x5caF332DcA4e6C9E69d52F320c21e74845353db0   \n",
       "..              ...                                         ...   \n",
       "61  SpotPriceUpdate  0x5caF332DcA4e6C9E69d52F320c21e74845353db0   \n",
       "62  SpotPriceUpdate  0x5caF332DcA4e6C9E69d52F320c21e74845353db0   \n",
       "63  SpotPriceUpdate  0x5caF332DcA4e6C9E69d52F320c21e74845353db0   \n",
       "64  SpotPriceUpdate  0x5caF332DcA4e6C9E69d52F320c21e74845353db0   \n",
       "65  SpotPriceUpdate  0x5caF332DcA4e6C9E69d52F320c21e74845353db0   \n",
       "\n",
       "                           event_arguments  \\\n",
       "0    {'newSpotPrice': 9077669902912621000}   \n",
       "1   {'newSpotPrice': 11577669902912621000}   \n",
       "2   {'newSpotPrice': 14077669902912621000}   \n",
       "3   {'newSpotPrice': 11577669902912621000}   \n",
       "4    {'newSpotPrice': 9077669902912621000}   \n",
       "..                                     ...   \n",
       "61  {'newSpotPrice': 17330097087378640000}   \n",
       "62  {'newSpotPrice': 14830097087378640000}   \n",
       "63  {'newSpotPrice': 17330097087378640000}   \n",
       "64  {'newSpotPrice': 14830097087378640000}   \n",
       "65  {'newSpotPrice': 12330097087378640000}   \n",
       "\n",
       "                                     transaction_hash  block_number  \\\n",
       "0   0x195069bfc2a5e1ee78ee3cd8114fdfce8c0d482036d3...      15198846   \n",
       "1   0xe6d9db380c0b7b3d9923ac18e1a920c64a60ef0e2f2e...      15199800   \n",
       "2   0x85212d1b00c2c505bda6b7a56d2b1f2a893646a0d55b...      15203036   \n",
       "3   0x414ea41198833a399a68c9b66456047bc6dd349330d7...      15208415   \n",
       "4   0x28758b8d0ad21047a93b75089e210e0ca85f652842ef...      15218330   \n",
       "..                                                ...           ...   \n",
       "61  0x2946f9b515e1b1144a2a2a7de75e111bdc1700485e16...      15460128   \n",
       "62  0xc5dd46e77a6a15f76f76b34bebc89c57a0a7436febb7...      15460372   \n",
       "63  0x15592fc9f37ff3366ca8cec45612d9b4dc6eec6b76ac...      15462678   \n",
       "64  0xe920b32111dc1c0691333c4880b495a944560a181646...      15487756   \n",
       "65  0xeec0e2fab623449d8cfe05883a3fce73774c490a69b7...      15505080   \n",
       "\n",
       "                                           block_hash  log_index  \\\n",
       "0   0xd3b29ce639c43280c2a194b638e07a5e1541824210aa...         54   \n",
       "1   0x420f1997f04b486a8ed114b32337abb0f8722e82ef1f...         79   \n",
       "2   0x0e89e72ff162aa1b1ec18cdad70825885d7c0884f425...        233   \n",
       "3   0x36dce9b484abf8db83699dabf5d63cbca4b9f68cc7e2...        120   \n",
       "4   0x10112e7b56853191c7e46d36f0cca7431be567982f5c...         73   \n",
       "..                                                ...        ...   \n",
       "61  0xbe6bdd7ff1c6ead20430c3ca591031e3cab7165b492d...         79   \n",
       "62  0x46a34b7810110fe9171b49155170a0a8af02658675e5...        190   \n",
       "63  0xa641413250e702a7032da1803bd91a6a9095ab11e9ec...         58   \n",
       "64  0xc545a2b6d360c6653972c1b1a52b1d90d7f59bcb9246...         52   \n",
       "65  0x188da61234954d9150e4ee3e72f84b3fc663bae565c1...        165   \n",
       "\n",
       "    transaction_index  \n",
       "0                  37  \n",
       "1                  82  \n",
       "2                 138  \n",
       "3                  56  \n",
       "4                  59  \n",
       "..                ...  \n",
       "61                 52  \n",
       "62                127  \n",
       "63                 37  \n",
       "64                 81  \n",
       "65                 59  \n",
       "\n",
       "[66 rows x 8 columns]"
      ]
     },
     "execution_count": 15,
     "metadata": {},
     "output_type": "execute_result"
    }
   ],
   "source": [
    "# get start block from query_pairs IF query can't handle when start_block < contract creation block (it can, woot)\n",
    "%time query_prices_xmons = sudo_pair_xmons.SpotPriceUpdate.query('*', start_block=start_block)\n",
    "query_prices_xmons"
   ]
  },
  {
   "cell_type": "code",
   "execution_count": 17,
   "id": "e2df6428",
   "metadata": {},
   "outputs": [],
   "source": [
    "# utility functions to unfold event arguments into separate columns\n",
    "def unfold_event_args(key: str, event_args: dict) -> tp.Any:\n",
    "    return event_args[key]\n",
    "\n",
    "def unfold(df: pd.DataFrame):\n",
    "    for key in df.iloc[-1]['event_arguments'].keys():\n",
    "        df[key] = df['event_arguments'].apply(lambda ev: unfold_event_args(key, ev))"
   ]
  },
  {
   "cell_type": "code",
   "execution_count": 18,
   "id": "f6cb50dc",
   "metadata": {},
   "outputs": [],
   "source": [
    "unfold(query_prices_xmons)"
   ]
  },
  {
   "cell_type": "code",
   "execution_count": 19,
   "id": "d6016528",
   "metadata": {},
   "outputs": [
    {
     "data": {
      "text/html": [
       "<div>\n",
       "<style scoped>\n",
       "    .dataframe tbody tr th:only-of-type {\n",
       "        vertical-align: middle;\n",
       "    }\n",
       "\n",
       "    .dataframe tbody tr th {\n",
       "        vertical-align: top;\n",
       "    }\n",
       "\n",
       "    .dataframe thead th {\n",
       "        text-align: right;\n",
       "    }\n",
       "</style>\n",
       "<table border=\"1\" class=\"dataframe\">\n",
       "  <thead>\n",
       "    <tr style=\"text-align: right;\">\n",
       "      <th></th>\n",
       "      <th>event_name</th>\n",
       "      <th>contract_address</th>\n",
       "      <th>event_arguments</th>\n",
       "      <th>transaction_hash</th>\n",
       "      <th>block_number</th>\n",
       "      <th>block_hash</th>\n",
       "      <th>log_index</th>\n",
       "      <th>transaction_index</th>\n",
       "      <th>newSpotPrice</th>\n",
       "    </tr>\n",
       "  </thead>\n",
       "  <tbody>\n",
       "    <tr>\n",
       "      <th>0</th>\n",
       "      <td>SpotPriceUpdate</td>\n",
       "      <td>0x5caF332DcA4e6C9E69d52F320c21e74845353db0</td>\n",
       "      <td>{'newSpotPrice': 9077669902912621000}</td>\n",
       "      <td>0x195069bfc2a5e1ee78ee3cd8114fdfce8c0d482036d3...</td>\n",
       "      <td>15198846</td>\n",
       "      <td>0xd3b29ce639c43280c2a194b638e07a5e1541824210aa...</td>\n",
       "      <td>54</td>\n",
       "      <td>37</td>\n",
       "      <td>9077669902912621000</td>\n",
       "    </tr>\n",
       "    <tr>\n",
       "      <th>1</th>\n",
       "      <td>SpotPriceUpdate</td>\n",
       "      <td>0x5caF332DcA4e6C9E69d52F320c21e74845353db0</td>\n",
       "      <td>{'newSpotPrice': 11577669902912621000}</td>\n",
       "      <td>0xe6d9db380c0b7b3d9923ac18e1a920c64a60ef0e2f2e...</td>\n",
       "      <td>15199800</td>\n",
       "      <td>0x420f1997f04b486a8ed114b32337abb0f8722e82ef1f...</td>\n",
       "      <td>79</td>\n",
       "      <td>82</td>\n",
       "      <td>11577669902912621000</td>\n",
       "    </tr>\n",
       "    <tr>\n",
       "      <th>2</th>\n",
       "      <td>SpotPriceUpdate</td>\n",
       "      <td>0x5caF332DcA4e6C9E69d52F320c21e74845353db0</td>\n",
       "      <td>{'newSpotPrice': 14077669902912621000}</td>\n",
       "      <td>0x85212d1b00c2c505bda6b7a56d2b1f2a893646a0d55b...</td>\n",
       "      <td>15203036</td>\n",
       "      <td>0x0e89e72ff162aa1b1ec18cdad70825885d7c0884f425...</td>\n",
       "      <td>233</td>\n",
       "      <td>138</td>\n",
       "      <td>14077669902912621000</td>\n",
       "    </tr>\n",
       "    <tr>\n",
       "      <th>3</th>\n",
       "      <td>SpotPriceUpdate</td>\n",
       "      <td>0x5caF332DcA4e6C9E69d52F320c21e74845353db0</td>\n",
       "      <td>{'newSpotPrice': 11577669902912621000}</td>\n",
       "      <td>0x414ea41198833a399a68c9b66456047bc6dd349330d7...</td>\n",
       "      <td>15208415</td>\n",
       "      <td>0x36dce9b484abf8db83699dabf5d63cbca4b9f68cc7e2...</td>\n",
       "      <td>120</td>\n",
       "      <td>56</td>\n",
       "      <td>11577669902912621000</td>\n",
       "    </tr>\n",
       "    <tr>\n",
       "      <th>4</th>\n",
       "      <td>SpotPriceUpdate</td>\n",
       "      <td>0x5caF332DcA4e6C9E69d52F320c21e74845353db0</td>\n",
       "      <td>{'newSpotPrice': 9077669902912621000}</td>\n",
       "      <td>0x28758b8d0ad21047a93b75089e210e0ca85f652842ef...</td>\n",
       "      <td>15218330</td>\n",
       "      <td>0x10112e7b56853191c7e46d36f0cca7431be567982f5c...</td>\n",
       "      <td>73</td>\n",
       "      <td>59</td>\n",
       "      <td>9077669902912621000</td>\n",
       "    </tr>\n",
       "    <tr>\n",
       "      <th>...</th>\n",
       "      <td>...</td>\n",
       "      <td>...</td>\n",
       "      <td>...</td>\n",
       "      <td>...</td>\n",
       "      <td>...</td>\n",
       "      <td>...</td>\n",
       "      <td>...</td>\n",
       "      <td>...</td>\n",
       "      <td>...</td>\n",
       "    </tr>\n",
       "    <tr>\n",
       "      <th>61</th>\n",
       "      <td>SpotPriceUpdate</td>\n",
       "      <td>0x5caF332DcA4e6C9E69d52F320c21e74845353db0</td>\n",
       "      <td>{'newSpotPrice': 17330097087378640000}</td>\n",
       "      <td>0x2946f9b515e1b1144a2a2a7de75e111bdc1700485e16...</td>\n",
       "      <td>15460128</td>\n",
       "      <td>0xbe6bdd7ff1c6ead20430c3ca591031e3cab7165b492d...</td>\n",
       "      <td>79</td>\n",
       "      <td>52</td>\n",
       "      <td>17330097087378640000</td>\n",
       "    </tr>\n",
       "    <tr>\n",
       "      <th>62</th>\n",
       "      <td>SpotPriceUpdate</td>\n",
       "      <td>0x5caF332DcA4e6C9E69d52F320c21e74845353db0</td>\n",
       "      <td>{'newSpotPrice': 14830097087378640000}</td>\n",
       "      <td>0xc5dd46e77a6a15f76f76b34bebc89c57a0a7436febb7...</td>\n",
       "      <td>15460372</td>\n",
       "      <td>0x46a34b7810110fe9171b49155170a0a8af02658675e5...</td>\n",
       "      <td>190</td>\n",
       "      <td>127</td>\n",
       "      <td>14830097087378640000</td>\n",
       "    </tr>\n",
       "    <tr>\n",
       "      <th>63</th>\n",
       "      <td>SpotPriceUpdate</td>\n",
       "      <td>0x5caF332DcA4e6C9E69d52F320c21e74845353db0</td>\n",
       "      <td>{'newSpotPrice': 17330097087378640000}</td>\n",
       "      <td>0x15592fc9f37ff3366ca8cec45612d9b4dc6eec6b76ac...</td>\n",
       "      <td>15462678</td>\n",
       "      <td>0xa641413250e702a7032da1803bd91a6a9095ab11e9ec...</td>\n",
       "      <td>58</td>\n",
       "      <td>37</td>\n",
       "      <td>17330097087378640000</td>\n",
       "    </tr>\n",
       "    <tr>\n",
       "      <th>64</th>\n",
       "      <td>SpotPriceUpdate</td>\n",
       "      <td>0x5caF332DcA4e6C9E69d52F320c21e74845353db0</td>\n",
       "      <td>{'newSpotPrice': 14830097087378640000}</td>\n",
       "      <td>0xe920b32111dc1c0691333c4880b495a944560a181646...</td>\n",
       "      <td>15487756</td>\n",
       "      <td>0xc545a2b6d360c6653972c1b1a52b1d90d7f59bcb9246...</td>\n",
       "      <td>52</td>\n",
       "      <td>81</td>\n",
       "      <td>14830097087378640000</td>\n",
       "    </tr>\n",
       "    <tr>\n",
       "      <th>65</th>\n",
       "      <td>SpotPriceUpdate</td>\n",
       "      <td>0x5caF332DcA4e6C9E69d52F320c21e74845353db0</td>\n",
       "      <td>{'newSpotPrice': 12330097087378640000}</td>\n",
       "      <td>0xeec0e2fab623449d8cfe05883a3fce73774c490a69b7...</td>\n",
       "      <td>15505080</td>\n",
       "      <td>0x188da61234954d9150e4ee3e72f84b3fc663bae565c1...</td>\n",
       "      <td>165</td>\n",
       "      <td>59</td>\n",
       "      <td>12330097087378640000</td>\n",
       "    </tr>\n",
       "  </tbody>\n",
       "</table>\n",
       "<p>66 rows × 9 columns</p>\n",
       "</div>"
      ],
      "text/plain": [
       "         event_name                            contract_address  \\\n",
       "0   SpotPriceUpdate  0x5caF332DcA4e6C9E69d52F320c21e74845353db0   \n",
       "1   SpotPriceUpdate  0x5caF332DcA4e6C9E69d52F320c21e74845353db0   \n",
       "2   SpotPriceUpdate  0x5caF332DcA4e6C9E69d52F320c21e74845353db0   \n",
       "3   SpotPriceUpdate  0x5caF332DcA4e6C9E69d52F320c21e74845353db0   \n",
       "4   SpotPriceUpdate  0x5caF332DcA4e6C9E69d52F320c21e74845353db0   \n",
       "..              ...                                         ...   \n",
       "61  SpotPriceUpdate  0x5caF332DcA4e6C9E69d52F320c21e74845353db0   \n",
       "62  SpotPriceUpdate  0x5caF332DcA4e6C9E69d52F320c21e74845353db0   \n",
       "63  SpotPriceUpdate  0x5caF332DcA4e6C9E69d52F320c21e74845353db0   \n",
       "64  SpotPriceUpdate  0x5caF332DcA4e6C9E69d52F320c21e74845353db0   \n",
       "65  SpotPriceUpdate  0x5caF332DcA4e6C9E69d52F320c21e74845353db0   \n",
       "\n",
       "                           event_arguments  \\\n",
       "0    {'newSpotPrice': 9077669902912621000}   \n",
       "1   {'newSpotPrice': 11577669902912621000}   \n",
       "2   {'newSpotPrice': 14077669902912621000}   \n",
       "3   {'newSpotPrice': 11577669902912621000}   \n",
       "4    {'newSpotPrice': 9077669902912621000}   \n",
       "..                                     ...   \n",
       "61  {'newSpotPrice': 17330097087378640000}   \n",
       "62  {'newSpotPrice': 14830097087378640000}   \n",
       "63  {'newSpotPrice': 17330097087378640000}   \n",
       "64  {'newSpotPrice': 14830097087378640000}   \n",
       "65  {'newSpotPrice': 12330097087378640000}   \n",
       "\n",
       "                                     transaction_hash  block_number  \\\n",
       "0   0x195069bfc2a5e1ee78ee3cd8114fdfce8c0d482036d3...      15198846   \n",
       "1   0xe6d9db380c0b7b3d9923ac18e1a920c64a60ef0e2f2e...      15199800   \n",
       "2   0x85212d1b00c2c505bda6b7a56d2b1f2a893646a0d55b...      15203036   \n",
       "3   0x414ea41198833a399a68c9b66456047bc6dd349330d7...      15208415   \n",
       "4   0x28758b8d0ad21047a93b75089e210e0ca85f652842ef...      15218330   \n",
       "..                                                ...           ...   \n",
       "61  0x2946f9b515e1b1144a2a2a7de75e111bdc1700485e16...      15460128   \n",
       "62  0xc5dd46e77a6a15f76f76b34bebc89c57a0a7436febb7...      15460372   \n",
       "63  0x15592fc9f37ff3366ca8cec45612d9b4dc6eec6b76ac...      15462678   \n",
       "64  0xe920b32111dc1c0691333c4880b495a944560a181646...      15487756   \n",
       "65  0xeec0e2fab623449d8cfe05883a3fce73774c490a69b7...      15505080   \n",
       "\n",
       "                                           block_hash  log_index  \\\n",
       "0   0xd3b29ce639c43280c2a194b638e07a5e1541824210aa...         54   \n",
       "1   0x420f1997f04b486a8ed114b32337abb0f8722e82ef1f...         79   \n",
       "2   0x0e89e72ff162aa1b1ec18cdad70825885d7c0884f425...        233   \n",
       "3   0x36dce9b484abf8db83699dabf5d63cbca4b9f68cc7e2...        120   \n",
       "4   0x10112e7b56853191c7e46d36f0cca7431be567982f5c...         73   \n",
       "..                                                ...        ...   \n",
       "61  0xbe6bdd7ff1c6ead20430c3ca591031e3cab7165b492d...         79   \n",
       "62  0x46a34b7810110fe9171b49155170a0a8af02658675e5...        190   \n",
       "63  0xa641413250e702a7032da1803bd91a6a9095ab11e9ec...         58   \n",
       "64  0xc545a2b6d360c6653972c1b1a52b1d90d7f59bcb9246...         52   \n",
       "65  0x188da61234954d9150e4ee3e72f84b3fc663bae565c1...        165   \n",
       "\n",
       "    transaction_index          newSpotPrice  \n",
       "0                  37   9077669902912621000  \n",
       "1                  82  11577669902912621000  \n",
       "2                 138  14077669902912621000  \n",
       "3                  56  11577669902912621000  \n",
       "4                  59   9077669902912621000  \n",
       "..                ...                   ...  \n",
       "61                 52  17330097087378640000  \n",
       "62                127  14830097087378640000  \n",
       "63                 37  17330097087378640000  \n",
       "64                 81  14830097087378640000  \n",
       "65                 59  12330097087378640000  \n",
       "\n",
       "[66 rows x 9 columns]"
      ]
     },
     "execution_count": 19,
     "metadata": {},
     "output_type": "execute_result"
    }
   ],
   "source": [
    "# only 64 price updates for this pool over the last 44 days since deployed (not much)\n",
    "query_prices_xmons"
   ]
  },
  {
   "cell_type": "code",
   "execution_count": 20,
   "id": "f9cfebc7",
   "metadata": {},
   "outputs": [
    {
     "data": {
      "text/plain": [
       "<AxesSubplot:xlabel='block_number', ylabel='newSpotPrice'>"
      ]
     },
     "execution_count": 20,
     "metadata": {},
     "output_type": "execute_result"
    },
    {
     "data": {
      "image/png": "[encoded data removed]",
      "text/plain": [
       "<Figure size 640x480 with 1 Axes>"
      ]
     },
     "metadata": {},
     "output_type": "display_data"
    }
   ],
   "source": [
    "query_prices_xmons.plot(x='block_number', y='newSpotPrice', kind='scatter')"
   ]
  },
  {
   "cell_type": "code",
   "execution_count": null,
   "id": "cdf852f9",
   "metadata": {},
   "outputs": [],
   "source": []
  }
 ],
 "metadata": {
  "kernelspec": {
   "display_name": "Python 3 (ipykernel)",
   "language": "python",
   "name": "python3"
  },
  "language_info": {
   "codemirror_mode": {
    "name": "ipython",
    "version": 3
   },
   "file_extension": ".py",
   "mimetype": "text/x-python",
   "name": "python",
   "nbconvert_exporter": "python",
   "pygments_lexer": "ipython3",
   "version": "3.10.6"
  }
 },
 "nbformat": 4,
 "nbformat_minor": 5
}
