{
 "cells": [
  {
   "cell_type": "code",
   "execution_count": 2,
   "id": "ea8a56be",
   "metadata": {},
   "outputs": [],
   "source": [
    "from ape import accounts, chain, Contract, networks"
   ]
  },
  {
   "cell_type": "code",
   "execution_count": 4,
   "id": "77250c80",
   "metadata": {},
   "outputs": [
    {
     "name": "stdout",
     "output_type": "stream",
     "text": [
      "INFO: Connecting to existing Geth node at 'http://localhost:8545'.\n"
     ]
    },
    {
     "data": {
      "text/plain": [
       "<geth chain_id=1>"
      ]
     },
     "execution_count": 4,
     "metadata": {},
     "output_type": "execute_result"
    }
   ],
   "source": [
    "networks.parse_network_choice('ethereum:mainnet:geth').__enter__()"
   ]
  },
  {
   "cell_type": "code",
   "execution_count": 9,
   "id": "c3b8bc6d",
   "metadata": {},
   "outputs": [
    {
     "data": {
      "text/plain": [
       "15461383"
      ]
     },
     "execution_count": 9,
     "metadata": {},
     "output_type": "execute_result"
    }
   ],
   "source": [
    "current_block = chain.blocks[-1].number\n",
    "current_block"
   ]
  },
  {
   "cell_type": "code",
   "execution_count": 6,
   "id": "a4a8516f",
   "metadata": {},
   "outputs": [
    {
     "data": {
      "text/plain": [
       "<LSSVMRouter 0x2B2e8cDA09bBA9660dCA5cB6233787738Ad68329>"
      ]
     },
     "execution_count": 6,
     "metadata": {},
     "output_type": "execute_result"
    }
   ],
   "source": [
    "sudo_router = Contract(\"0x2B2e8cDA09bBA9660dCA5cB6233787738Ad68329\")\n",
    "sudo_router"
   ]
  },
  {
   "cell_type": "code",
   "execution_count": 7,
   "id": "08870007",
   "metadata": {},
   "outputs": [
    {
     "data": {
      "text/plain": [
       "<LSSVMPairFactory 0xb16c1342E617A5B6E4b631EB114483FDB289c0A4>"
      ]
     },
     "execution_count": 7,
     "metadata": {},
     "output_type": "execute_result"
    }
   ],
   "source": [
    "sudo_factory = Contract(\"0xb16c1342E617A5B6E4b631EB114483FDB289c0A4\")\n",
    "sudo_factory"
   ]
  },
  {
   "cell_type": "code",
   "execution_count": 8,
   "id": "f3e3cfdc",
   "metadata": {},
   "outputs": [
    {
     "data": {
      "text/plain": [
       "NewPair(address poolAddress)"
      ]
     },
     "execution_count": 8,
     "metadata": {},
     "output_type": "execute_result"
    }
   ],
   "source": [
    "sudo_factory.NewPair"
   ]
  },
  {
   "cell_type": "code",
   "execution_count": 19,
   "id": "ff547fad",
   "metadata": {},
   "outputs": [
    {
     "data": {
      "text/plain": [
       "True"
      ]
     },
     "execution_count": 19,
     "metadata": {},
     "output_type": "execute_result"
    }
   ],
   "source": [
    "# use address of top xmons pool to check is pool thru factory\n",
    "sudo_factory.isPair(\"0x5caf332dca4e6c9e69d52f320c21e74845353db0\", 0)"
   ]
  },
  {
   "cell_type": "code",
   "execution_count": null,
   "id": "49399bc4",
   "metadata": {},
   "outputs": [],
   "source": []
  }
 ],
 "metadata": {
  "kernelspec": {
   "display_name": "Python 3 (ipykernel)",
   "language": "python",
   "name": "python3"
  },
  "language_info": {
   "codemirror_mode": {
    "name": "ipython",
    "version": 3
   },
   "file_extension": ".py",
   "mimetype": "text/x-python",
   "name": "python",
   "nbconvert_exporter": "python",
   "pygments_lexer": "ipython3",
   "version": "3.10.6"
  }
 },
 "nbformat": 4,
 "nbformat_minor": 5
}
