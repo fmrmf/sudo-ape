{
 "cells": [
  {
   "cell_type": "code",
   "execution_count": 1,
   "id": "d43f6e6e",
   "metadata": {},
   "outputs": [],
   "source": [
    "\"\"\"\n",
    "SEE: https://github.com/sudoswap/lssvm/blob/main/src/LSSVMPair.sol\n",
    "Events to query for are:\n",
    "  1. SwapNFTInPair()\n",
    "    - emitted by LSSVMPair::swapNFTsForToken (sell order)\n",
    "  2. SwapNFTOutPair()\n",
    "    - emitted by LSSVMPair::swapTokenForAnyNFTs (buy order)\n",
    "  3. FeeUpdate()\n",
    "    - emitted by LSSVMPair::changeFee\n",
    "  4. DeltaUpdate()\n",
    "    - emitted by LSSVMPair::changeDelta, ::swapNFTsForToken, ::swapTokenForAnyNFTs\n",
    "\n",
    "Pool analysis for a given pair contract.\n",
    "\n",
    "SHOULD replicate https://github.com/sudoswap/pools-analysis but with historical charts for\n",
    "pool performance.\n",
    "\"\"\"\n",
    "# switch to sudo-ape wd first for ape project to work properly\n",
    "import os\n",
    "from pathlib import Path\n",
    "\n",
    "if Path(*Path(os.getcwd()).parts[-2:]) == Path('sudo-ape/notebook'):\n",
    "    os.chdir('..')"
   ]
  },
  {
   "cell_type": "code",
   "execution_count": 3,
   "id": "c8b23c86",
   "metadata": {},
   "outputs": [],
   "source": [
    "import numpy as np\n",
    "import pandas as pd\n",
    "import typing as tp\n",
    "\n",
    "from ape import accounts, chain, Contract, networks, project"
   ]
  },
  {
   "cell_type": "code",
   "execution_count": 4,
   "id": "fe5e1b32",
   "metadata": {},
   "outputs": [
    {
     "data": {
      "text/plain": [
       "<alchemy chain_id=1>"
      ]
     },
     "execution_count": 4,
     "metadata": {},
     "output_type": "execute_result"
    }
   ],
   "source": [
    "networks.parse_network_choice('ethereum:mainnet:alchemy').__enter__()"
   ]
  },
  {
   "cell_type": "code",
   "execution_count": 6,
   "id": "cd558c0f",
   "metadata": {},
   "outputs": [
    {
     "data": {
      "text/plain": [
       "14645816"
      ]
     },
     "execution_count": 6,
     "metadata": {},
     "output_type": "execute_result"
    }
   ],
   "source": [
    "start_block = 14645816  # pair factory deployment\n",
    "start_block"
   ]
  },
  {
   "cell_type": "code",
   "execution_count": 10,
   "id": "d09d6250",
   "metadata": {},
   "outputs": [],
   "source": [
    "# TODO: change to whatever pool address you want\n",
    "pool_addr = \"0x5caf332dca4e6c9e69d52f320c21e74845353db0\"  # xmons\n",
    "pool = project.LSSVMPair.at(pool_addr)"
   ]
  },
  {
   "cell_type": "code",
   "execution_count": 11,
   "id": "2e41ca77",
   "metadata": {},
   "outputs": [
    {
     "data": {
      "text/plain": [
       "<LSSVMPair 0x5caF332DcA4e6C9E69d52F320c21e74845353db0>"
      ]
     },
     "execution_count": 11,
     "metadata": {},
     "output_type": "execute_result"
    }
   ],
   "source": [
    "pool"
   ]
  },
  {
   "cell_type": "code",
   "execution_count": 13,
   "id": "89aa29bb",
   "metadata": {},
   "outputs": [
    {
     "data": {
      "text/plain": [
       "<LinearCurve 0x5B6aC51d9B1CeDE0068a1B26533CAce807f883Ee>"
      ]
     },
     "execution_count": 13,
     "metadata": {},
     "output_type": "execute_result"
    }
   ],
   "source": [
    "# curve type\n",
    "curve = Contract(pool.bondingCurve())\n",
    "curve"
   ]
  },
  {
   "cell_type": "code",
   "execution_count": null,
   "id": "895df45b",
   "metadata": {},
   "outputs": [
    {
     "name": "stdout",
     "output_type": "stream",
     "text": [
      "INFO: Cache database has not been initialized\n"
     ]
    }
   ],
   "source": [
    "# query for historical NFT in swap events\n",
    "%time query_swaps_in = pool.SwapNFTInPair.query('*', start_block=start_block)\n",
    "query_swaps_in"
   ]
  },
  {
   "cell_type": "code",
   "execution_count": null,
   "id": "273cdc90",
   "metadata": {},
   "outputs": [],
   "source": []
  }
 ],
 "metadata": {
  "kernelspec": {
   "display_name": "Python 3 (ipykernel)",
   "language": "python",
   "name": "python3"
  },
  "language_info": {
   "codemirror_mode": {
    "name": "ipython",
    "version": 3
   },
   "file_extension": ".py",
   "mimetype": "text/x-python",
   "name": "python",
   "nbconvert_exporter": "python",
   "pygments_lexer": "ipython3",
   "version": "3.10.6"
  }
 },
 "nbformat": 4,
 "nbformat_minor": 5
}
